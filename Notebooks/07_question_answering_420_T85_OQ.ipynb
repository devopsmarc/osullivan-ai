{
  "nbformat": 4,
  "nbformat_minor": 0,
  "metadata": {
    "colab": {
      "provenance": []
    },
    "kernelspec": {
      "name": "python3",
      "display_name": "Python 3"
    },
    "language_info": {
      "name": "python"
    }
  },
  "cells": [
    {
      "cell_type": "markdown",
      "source": [
        "# Question Answering, que peuvent-elles faire ?"
      ],
      "metadata": {
        "id": "76-UDKQy42Xv"
      }
    },
    {
      "cell_type": "markdown",
      "source": [
        "Installez les bibliothèques des Transformer, Datasets et Evaluate."
      ],
      "metadata": {
        "id": "jz0GMer35jk6"
      }
    },
    {
      "cell_type": "code",
      "execution_count": null,
      "metadata": {
        "id": "QI9_iVIE4nMh"
      },
      "outputs": [],
      "source": [
        "!pip install -qqq datasets evaluate transformers[sentencepiece] #--progress-bar off"
      ]
    },
    {
      "cell_type": "code",
      "source": [
        "from transformers import pipeline\n",
        "\n",
        "question_answerer = pipeline(\"question-answering\",\n",
        "                              model=\"distilbert-base-cased-distilled-squad\")\n"
      ],
      "metadata": {
        "id": "DRiGE6hs7Nt5"
      },
      "execution_count": null,
      "outputs": []
    },
    {
      "cell_type": "code",
      "source": [
        "\n",
        "question_answerer(\n",
        "    question=\"Where do I work?\",\n",
        "    context=\"My name is Marcello and I work at Collège O'Sullivan de Québec in Québec city.\",\n",
        ")"
      ],
      "metadata": {
        "id": "HbxjojJy7pWI"
      },
      "execution_count": null,
      "outputs": []
    },
    {
      "cell_type": "code",
      "source": [
        "model = question_answerer.model"
      ],
      "metadata": {
        "id": "8r31EY5raVDc"
      },
      "execution_count": 4,
      "outputs": []
    },
    {
      "cell_type": "code",
      "source": [
        "print(model)"
      ],
      "metadata": {
        "id": "BluqORVtabs0"
      },
      "execution_count": null,
      "outputs": []
    }
  ]
}