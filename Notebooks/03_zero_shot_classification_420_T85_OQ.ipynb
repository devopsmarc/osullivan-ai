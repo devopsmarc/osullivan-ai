{
  "cells": [
    {
      "cell_type": "markdown",
      "metadata": {
        "id": "76-UDKQy42Xv"
      },
      "source": [
        "# Zero-shot Classification, que peuvent-elles faire ?"
      ]
    },
    {
      "cell_type": "markdown",
      "metadata": {
        "id": "jz0GMer35jk6"
      },
      "source": [
        "Installez les bibliothèques des Transformer, Datasets et Evaluate."
      ]
    },
    {
      "cell_type": "code",
      "execution_count": null,
      "metadata": {
        "colab": {
          "base_uri": "https://localhost:8080/"
        },
        "id": "QI9_iVIE4nMh",
        "outputId": "6a423dda-d8e9-42e0-b334-b7f19a8c3002"
      },
      "outputs": [],
      "source": [
        "!pip install -qqq datasets evaluate transformers[sentencepiece] #--progress-bar off"
      ]
    },
    {
      "cell_type": "code",
      "execution_count": null,
      "metadata": {
        "id": "DRiGE6hs7Nt5"
      },
      "outputs": [],
      "source": [
        "from transformers import pipeline\n",
        "\n",
        "classifier = pipeline(\"zero-shot-classification\",\n",
        "                      model=\"facebook/bart-large-mnli\")\n"
      ]
    },
    {
      "cell_type": "code",
      "execution_count": 3,
      "metadata": {
        "id": "HbxjojJy7pWI"
      },
      "outputs": [],
      "source": [
        "\n",
        "result = classifier(\n",
        "    \"This is a course about Artificial Intelligence models used in NLP.\",\n",
        "    candidate_labels=[\"education\", \"politics\", \"business\"],\n",
        ")"
      ]
    },
    {
      "cell_type": "code",
      "execution_count": null,
      "metadata": {
        "colab": {
          "base_uri": "https://localhost:8080/"
        },
        "id": "vpsFv2vRaZtb",
        "outputId": "178cba42-28f8-49b1-e614-faf10e1bcd65"
      },
      "outputs": [],
      "source": [
        "print(result)"
      ]
    },
    {
      "cell_type": "code",
      "execution_count": 5,
      "metadata": {
        "id": "8r31EY5raVDc"
      },
      "outputs": [],
      "source": [
        "model = classifier.model"
      ]
    },
    {
      "cell_type": "code",
      "execution_count": null,
      "metadata": {
        "id": "BluqORVtabs0"
      },
      "outputs": [],
      "source": [
        "print(model)"
      ]
    }
  ],
  "metadata": {
    "colab": {
      "provenance": []
    },
    "kernelspec": {
      "display_name": "Python 3",
      "name": "python3"
    },
    "language_info": {
      "name": "python"
    }
  },
  "nbformat": 4,
  "nbformat_minor": 0
}
