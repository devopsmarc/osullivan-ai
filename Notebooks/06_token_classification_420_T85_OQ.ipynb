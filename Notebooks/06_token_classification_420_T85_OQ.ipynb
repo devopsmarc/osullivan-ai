{
  "nbformat": 4,
  "nbformat_minor": 0,
  "metadata": {
    "colab": {
      "provenance": []
    },
    "kernelspec": {
      "name": "python3",
      "display_name": "Python 3"
    },
    "language_info": {
      "name": "python"
    }
  },
  "cells": [
    {
      "cell_type": "markdown",
      "source": [
        "# Token Classification, que peuvent-elles faire ?"
      ],
      "metadata": {
        "id": "76-UDKQy42Xv"
      }
    },
    {
      "cell_type": "markdown",
      "source": [
        "Installez les bibliothèques des Transformer, Datasets et Evaluate."
      ],
      "metadata": {
        "id": "jz0GMer35jk6"
      }
    },
    {
      "cell_type": "code",
      "execution_count": null,
      "metadata": {
        "id": "QI9_iVIE4nMh"
      },
      "outputs": [],
      "source": [
        "!pip install -qqq datasets evaluate transformers[sentencepiece] #--progress-bar off"
      ]
    },
    {
      "cell_type": "code",
      "source": [
        "from transformers import pipeline\n",
        "\n",
        "ner = pipeline(\"ner\",\n",
        "                grouped_entities=True,\n",
        "                model=\"dbmdz/bert-large-cased-finetuned-conll03-english\")\n"
      ],
      "metadata": {
        "id": "DRiGE6hs7Nt5"
      },
      "execution_count": null,
      "outputs": []
    },
    {
      "cell_type": "code",
      "source": [
        "\n",
        "ner(\"My name is Marcello and I work at Collège O'Sullivan de Québec in Québec.\")"
      ],
      "metadata": {
        "id": "HbxjojJy7pWI"
      },
      "execution_count": null,
      "outputs": []
    },
    {
      "cell_type": "code",
      "source": [
        "model = ner.model"
      ],
      "metadata": {
        "id": "8r31EY5raVDc"
      },
      "execution_count": 5,
      "outputs": []
    },
    {
      "cell_type": "code",
      "source": [
        "print(model)"
      ],
      "metadata": {
        "id": "BluqORVtabs0"
      },
      "execution_count": null,
      "outputs": []
    }
  ]
}